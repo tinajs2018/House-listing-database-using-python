{
 "cells": [
  {
   "cell_type": "code",
   "execution_count": 5,
   "metadata": {},
   "outputs": [],
   "source": [
    "location=[]\n",
    "rooms_numbers=[]\n",
    "area=[]\n",
    "price=[]\n",
    "total=3"
   ]
  },
  {
   "cell_type": "code",
   "execution_count": 6,
   "metadata": {},
   "outputs": [
    {
     "name": "stdout",
     "output_type": "stream",
     "text": [
      "Location:Kaunguji\n",
      "NUmber of rooms:34\n",
      "Area:234\n",
      "Price:34000\n",
      "\n",
      "location\n",
      "rooms_numbers\n",
      "area\n",
      "price\n",
      "\n",
      "Location:Marimba\n",
      "NUmber of rooms:2\n",
      "Area:12300\n",
      "Price:2340998\n",
      "\n",
      "location\n",
      "rooms_numbers\n",
      "area\n",
      "price\n",
      "\n",
      "Location:Kigarine\n",
      "NUmber of rooms:34\n",
      "Area:240989\n",
      "Price:2898889\n",
      "\n",
      "location\n",
      "rooms_numbers\n",
      "area\n",
      "price\n",
      "\n"
     ]
    }
   ],
   "source": [
    "for i in range(total):\n",
    "    loc=input('Location:')\n",
    "    rooms=input('NUmber of rooms:')\n",
    "    are=input('Area:')\n",
    "    pri=input('Price:')\n",
    "    location.append(loc)\n",
    "    rooms_numbers.append(rooms)\n",
    "    area.append(are)\n",
    "    price.append(pri)\n",
    "#     print('\\nlocation\\nrooms_numbers\\narea\\nprice\\n')"
   ]
  },
  {
   "cell_type": "code",
   "execution_count": 26,
   "metadata": {},
   "outputs": [
    {
     "name": "stdout",
     "output_type": "stream",
     "text": [
      "('Kaunguji', '34', '234', '34000')\n",
      "('Marimba', '2', '12300', '2340998')\n",
      "('Kigarine', '34', '240989', '2898889')\n"
     ]
    }
   ],
   "source": [
    "for  i in range(total):\n",
    "    print((location[i],rooms_numbers[i],area[i],price[i]))"
   ]
  },
  {
   "cell_type": "code",
   "execution_count": 27,
   "metadata": {},
   "outputs": [
    {
     "name": "stdout",
     "output_type": "stream",
     "text": [
      "Please enter the location:Marimba\n"
     ]
    }
   ],
   "source": [
    "search_term=input('Please enter the location:')"
   ]
  },
  {
   "cell_type": "code",
   "execution_count": 28,
   "metadata": {},
   "outputs": [
    {
     "name": "stdout",
     "output_type": "stream",
     "text": [
      "Price of the house:Marimba,location:2340998\n"
     ]
    }
   ],
   "source": [
    "if search_term in location:\n",
    "    index=location.index(search_term)\n",
    "    pesa=price[index]\n",
    "    print('Price of the house:{},location:{}'.format(search_term,pesa))\n",
    "else:\n",
    "    print('NO house listing in that area')\n"
   ]
  },
  {
   "cell_type": "code",
   "execution_count": 29,
   "metadata": {},
   "outputs": [
    {
     "name": "stdout",
     "output_type": "stream",
     "text": [
      "please enter the area:234\n"
     ]
    }
   ],
   "source": [
    "rock=input('please enter the area:')"
   ]
  },
  {
   "cell_type": "code",
   "execution_count": 37,
   "metadata": {},
   "outputs": [
    {
     "name": "stdout",
     "output_type": "stream",
     "text": [
      "area,location ,Number of rooms,price ('234', 'Kaunguji', '34', '34000')\n"
     ]
    }
   ],
   "source": [
    "if rock in area:\n",
    "    index=area.index(rock)\n",
    "    Place=location[index]\n",
    "    pesa=price[index]\n",
    "    romie=rooms_numbers[index]\n",
    "    print('area,location ,Number of rooms,price',(rock,Place,romie ,pesa))\n",
    "else:\n",
    "    print('NO place with that area ')"
   ]
  },
  {
   "cell_type": "code",
   "execution_count": null,
   "metadata": {},
   "outputs": [],
   "source": []
  }
 ],
 "metadata": {
  "kernelspec": {
   "display_name": "Python 3",
   "language": "python",
   "name": "python3"
  },
  "language_info": {
   "codemirror_mode": {
    "name": "ipython",
    "version": 3
   },
   "file_extension": ".py",
   "mimetype": "text/x-python",
   "name": "python",
   "nbconvert_exporter": "python",
   "pygments_lexer": "ipython3",
   "version": "3.7.4"
  }
 },
 "nbformat": 4,
 "nbformat_minor": 2
}
